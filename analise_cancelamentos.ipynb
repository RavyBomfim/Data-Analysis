{
 "cells": [
  {
   "cell_type": "code",
   "execution_count": null,
   "metadata": {},
   "outputs": [],
   "source": [
    "import pandas as pd\n",
    "\n",
    "tabela = pd.read_csv('cancelamentos.csv')\n",
    "tabela = tabela.drop(columns='CustomerID')\n",
    "\n",
    "tabela = tabela.dropna()\n",
    "\n",
    "##### Passo 5: Análise das causas dos cancelamentos (Como ascolunas da base de dados impactam nos cancelamentos)\n",
    "\n",
    "# Gráficos/dashboards\n",
    "\n",
    "#!pip install plotly\n",
    "import plotly.express as px\n",
    "\n",
    "for coluna in tabela.columns:\n",
    "    # Criar gráfico\n",
    "    grafico = px.histogram(tabela, x=coluna, color='cancelou')\n",
    "\n",
    "    # Exibir o gráfico\n",
    "    grafico.show()"
   ]
  },
  {
   "cell_type": "code",
   "execution_count": null,
   "metadata": {},
   "outputs": [],
   "source": [
    "# Analisando os cancelamentos e dando possíveis soluções\n",
    "\n",
    "# Todos os clientes do contrato mensal cancelaram\n",
    "    # Oferecer descontos nos planos anuais e trimestrais\n",
    "\n",
    "# Clientes que ligam mais de 4 vezes parao call center, cancelam\n",
    "    # Ciar um processo para resolver o problema do cliente em no máximo 3 ligações56.9+-++-\n",
    "\n",
    "# Clientes que atrasaram o pagamento mais de 20 dias, cancelaram\n",
    "    # Política de resolver atrasos em até 10 dias (equipe financeira)\n",
    "\n",
    "\n",
    "# Antes de eliminar os cancelamentos mensais, os clientes que ligaram mais de 4 vezes e os atrasos acima de 20 dias\n",
    "print('Antes de eliminar os cancelamentos mensais, os clientes que ligaram mais de 4 vezes e os atrasos acima de 20 dias')\n",
    "display(tabela['cancelou'].value_counts())\n",
    "# Em percentual\n",
    "display(tabela['cancelou'].value_counts(normalize=True))\n",
    "\n",
    "# Excluindo os cancelamentos mensais\n",
    "tabela = tabela[tabela['duracao_contrato']!='Monthly']\n",
    "\n",
    "# Excluindo os clientes que ligaram mais de 4 vezes\n",
    "tabela = tabela[tabela['ligacoes_callcenter']<=4]\n",
    "\n",
    "# Excluindo os atrasos acima de 20 dias\n",
    "tabela = tabela[tabela['dias_atraso']<=20]\n",
    "\n",
    "print('################################################# \\n')\n",
    "\n",
    "# Depois de eliminar os cancelamentos mensais, os clientes que ligaram mais de 4 vezes e os atrasos acima de 20 dias\n",
    "print('Depois de eliminar os cancelamentos mensais, os clientes que ligaram mais de 4 vezes e os atrasos acima de 20 dias')\n",
    "display(tabela['cancelou'].value_counts())\n",
    "# Em percentual\n",
    "display(tabela['cancelou'].value_counts(normalize=True))\n",
    "\n",
    "# Resolvendo os problemas das principais causas dos cancelamentos que inicialmente é de 56%, estes podem ser reduzidos para 18%.\n",
    "# As 3 principais causas de cancelamentos que indetificamos tem relação com:\n",
    "# - a forma de contrato mensal\n",
    "# - a necessidade de ligações no call center\n",
    "# - o atraso no pagamento"
   ]
  }
 ],
 "metadata": {
  "kernelspec": {
   "display_name": "Python 3",
   "language": "python",
   "name": "python3"
  },
  "language_info": {
   "codemirror_mode": {
    "name": "ipython",
    "version": 3
   },
   "file_extension": ".py",
   "mimetype": "text/x-python",
   "name": "python",
   "nbconvert_exporter": "python",
   "pygments_lexer": "ipython3",
   "version": "3.10.11"
  }
 },
 "nbformat": 4,
 "nbformat_minor": 2
}
